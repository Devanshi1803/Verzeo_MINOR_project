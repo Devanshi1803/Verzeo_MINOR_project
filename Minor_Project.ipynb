{
 "cells": [
  {
   "cell_type": "markdown",
   "metadata": {},
   "source": [
    "# Data Cleaning "
   ]
  },
  {
   "cell_type": "code",
   "execution_count": 36,
   "metadata": {},
   "outputs": [],
   "source": [
    "import pandas as pd"
   ]
  },
  {
   "cell_type": "code",
   "execution_count": 37,
   "metadata": {},
   "outputs": [],
   "source": [
    "df = pd.read_csv('tmdb-movies.csv')   "
   ]
  },
  {
   "cell_type": "code",
   "execution_count": 38,
   "metadata": {},
   "outputs": [
    {
     "data": {
      "text/html": [
       "<div>\n",
       "<style scoped>\n",
       "    .dataframe tbody tr th:only-of-type {\n",
       "        vertical-align: middle;\n",
       "    }\n",
       "\n",
       "    .dataframe tbody tr th {\n",
       "        vertical-align: top;\n",
       "    }\n",
       "\n",
       "    .dataframe thead th {\n",
       "        text-align: right;\n",
       "    }\n",
       "</style>\n",
       "<table border=\"1\" class=\"dataframe\">\n",
       "  <thead>\n",
       "    <tr style=\"text-align: right;\">\n",
       "      <th></th>\n",
       "      <th>id</th>\n",
       "      <th>imdb_id</th>\n",
       "      <th>popularity</th>\n",
       "      <th>budget</th>\n",
       "      <th>revenue</th>\n",
       "      <th>original_title</th>\n",
       "      <th>cast</th>\n",
       "      <th>homepage</th>\n",
       "      <th>director</th>\n",
       "      <th>tagline</th>\n",
       "      <th>...</th>\n",
       "      <th>overview</th>\n",
       "      <th>runtime</th>\n",
       "      <th>genres</th>\n",
       "      <th>production_companies</th>\n",
       "      <th>release_date</th>\n",
       "      <th>vote_count</th>\n",
       "      <th>vote_average</th>\n",
       "      <th>release_year</th>\n",
       "      <th>budget_adj</th>\n",
       "      <th>revenue_adj</th>\n",
       "    </tr>\n",
       "  </thead>\n",
       "  <tbody>\n",
       "    <tr>\n",
       "      <th>0</th>\n",
       "      <td>135397</td>\n",
       "      <td>tt0369610</td>\n",
       "      <td>32.985763</td>\n",
       "      <td>150000000</td>\n",
       "      <td>1513528810</td>\n",
       "      <td>Jurassic World</td>\n",
       "      <td>Chris Pratt|Bryce Dallas Howard|Irrfan Khan|Vi...</td>\n",
       "      <td>http://www.jurassicworld.com/</td>\n",
       "      <td>Colin Trevorrow</td>\n",
       "      <td>The park is open.</td>\n",
       "      <td>...</td>\n",
       "      <td>Twenty-two years after the events of Jurassic ...</td>\n",
       "      <td>124</td>\n",
       "      <td>Action|Adventure|Science Fiction|Thriller</td>\n",
       "      <td>Universal Studios|Amblin Entertainment|Legenda...</td>\n",
       "      <td>6/9/15</td>\n",
       "      <td>5562</td>\n",
       "      <td>6.5</td>\n",
       "      <td>2015</td>\n",
       "      <td>1.379999e+08</td>\n",
       "      <td>1.392446e+09</td>\n",
       "    </tr>\n",
       "    <tr>\n",
       "      <th>1</th>\n",
       "      <td>76341</td>\n",
       "      <td>tt1392190</td>\n",
       "      <td>28.419936</td>\n",
       "      <td>150000000</td>\n",
       "      <td>378436354</td>\n",
       "      <td>Mad Max: Fury Road</td>\n",
       "      <td>Tom Hardy|Charlize Theron|Hugh Keays-Byrne|Nic...</td>\n",
       "      <td>http://www.madmaxmovie.com/</td>\n",
       "      <td>George Miller</td>\n",
       "      <td>What a Lovely Day.</td>\n",
       "      <td>...</td>\n",
       "      <td>An apocalyptic story set in the furthest reach...</td>\n",
       "      <td>120</td>\n",
       "      <td>Action|Adventure|Science Fiction|Thriller</td>\n",
       "      <td>Village Roadshow Pictures|Kennedy Miller Produ...</td>\n",
       "      <td>5/13/15</td>\n",
       "      <td>6185</td>\n",
       "      <td>7.1</td>\n",
       "      <td>2015</td>\n",
       "      <td>1.379999e+08</td>\n",
       "      <td>3.481613e+08</td>\n",
       "    </tr>\n",
       "    <tr>\n",
       "      <th>2</th>\n",
       "      <td>262500</td>\n",
       "      <td>tt2908446</td>\n",
       "      <td>13.112507</td>\n",
       "      <td>110000000</td>\n",
       "      <td>295238201</td>\n",
       "      <td>Insurgent</td>\n",
       "      <td>Shailene Woodley|Theo James|Kate Winslet|Ansel...</td>\n",
       "      <td>http://www.thedivergentseries.movie/#insurgent</td>\n",
       "      <td>Robert Schwentke</td>\n",
       "      <td>One Choice Can Destroy You</td>\n",
       "      <td>...</td>\n",
       "      <td>Beatrice Prior must confront her inner demons ...</td>\n",
       "      <td>119</td>\n",
       "      <td>Adventure|Science Fiction|Thriller</td>\n",
       "      <td>Summit Entertainment|Mandeville Films|Red Wago...</td>\n",
       "      <td>3/18/15</td>\n",
       "      <td>2480</td>\n",
       "      <td>6.3</td>\n",
       "      <td>2015</td>\n",
       "      <td>1.012000e+08</td>\n",
       "      <td>2.716190e+08</td>\n",
       "    </tr>\n",
       "  </tbody>\n",
       "</table>\n",
       "<p>3 rows × 21 columns</p>\n",
       "</div>"
      ],
      "text/plain": [
       "       id    imdb_id  popularity     budget     revenue      original_title  \\\n",
       "0  135397  tt0369610   32.985763  150000000  1513528810      Jurassic World   \n",
       "1   76341  tt1392190   28.419936  150000000   378436354  Mad Max: Fury Road   \n",
       "2  262500  tt2908446   13.112507  110000000   295238201           Insurgent   \n",
       "\n",
       "                                                cast  \\\n",
       "0  Chris Pratt|Bryce Dallas Howard|Irrfan Khan|Vi...   \n",
       "1  Tom Hardy|Charlize Theron|Hugh Keays-Byrne|Nic...   \n",
       "2  Shailene Woodley|Theo James|Kate Winslet|Ansel...   \n",
       "\n",
       "                                         homepage          director  \\\n",
       "0                   http://www.jurassicworld.com/   Colin Trevorrow   \n",
       "1                     http://www.madmaxmovie.com/     George Miller   \n",
       "2  http://www.thedivergentseries.movie/#insurgent  Robert Schwentke   \n",
       "\n",
       "                      tagline  ...  \\\n",
       "0           The park is open.  ...   \n",
       "1          What a Lovely Day.  ...   \n",
       "2  One Choice Can Destroy You  ...   \n",
       "\n",
       "                                            overview runtime  \\\n",
       "0  Twenty-two years after the events of Jurassic ...     124   \n",
       "1  An apocalyptic story set in the furthest reach...     120   \n",
       "2  Beatrice Prior must confront her inner demons ...     119   \n",
       "\n",
       "                                      genres  \\\n",
       "0  Action|Adventure|Science Fiction|Thriller   \n",
       "1  Action|Adventure|Science Fiction|Thriller   \n",
       "2         Adventure|Science Fiction|Thriller   \n",
       "\n",
       "                                production_companies release_date vote_count  \\\n",
       "0  Universal Studios|Amblin Entertainment|Legenda...       6/9/15       5562   \n",
       "1  Village Roadshow Pictures|Kennedy Miller Produ...      5/13/15       6185   \n",
       "2  Summit Entertainment|Mandeville Films|Red Wago...      3/18/15       2480   \n",
       "\n",
       "   vote_average  release_year    budget_adj   revenue_adj  \n",
       "0           6.5          2015  1.379999e+08  1.392446e+09  \n",
       "1           7.1          2015  1.379999e+08  3.481613e+08  \n",
       "2           6.3          2015  1.012000e+08  2.716190e+08  \n",
       "\n",
       "[3 rows x 21 columns]"
      ]
     },
     "execution_count": 38,
     "metadata": {},
     "output_type": "execute_result"
    }
   ],
   "source": [
    "df.head(3)"
   ]
  },
  {
   "cell_type": "code",
   "execution_count": 39,
   "metadata": {},
   "outputs": [
    {
     "data": {
      "text/plain": [
       "Index(['id', 'imdb_id', 'popularity', 'budget', 'revenue', 'original_title',\n",
       "       'cast', 'homepage', 'director', 'tagline', 'keywords', 'overview',\n",
       "       'runtime', 'genres', 'production_companies', 'release_date',\n",
       "       'vote_count', 'vote_average', 'release_year', 'budget_adj',\n",
       "       'revenue_adj'],\n",
       "      dtype='object')"
      ]
     },
     "execution_count": 39,
     "metadata": {},
     "output_type": "execute_result"
    }
   ],
   "source": [
    "df.columns"
   ]
  },
  {
   "cell_type": "code",
   "execution_count": 40,
   "metadata": {},
   "outputs": [],
   "source": [
    "df = df[['budget', 'revenue', 'runtime','release_year', 'genres', 'original_title', 'cast']]"
   ]
  },
  {
   "cell_type": "code",
   "execution_count": 41,
   "metadata": {
    "scrolled": true
   },
   "outputs": [
    {
     "name": "stdout",
     "output_type": "stream",
     "text": [
      "<class 'pandas.core.frame.DataFrame'>\n",
      "RangeIndex: 10866 entries, 0 to 10865\n",
      "Data columns (total 7 columns):\n",
      " #   Column          Non-Null Count  Dtype \n",
      "---  ------          --------------  ----- \n",
      " 0   budget          10866 non-null  int64 \n",
      " 1   revenue         10866 non-null  int64 \n",
      " 2   runtime         10866 non-null  int64 \n",
      " 3   release_year    10866 non-null  int64 \n",
      " 4   genres          10843 non-null  object\n",
      " 5   original_title  10866 non-null  object\n",
      " 6   cast            10790 non-null  object\n",
      "dtypes: int64(4), object(3)\n",
      "memory usage: 594.4+ KB\n"
     ]
    }
   ],
   "source": [
    "df.info()"
   ]
  },
  {
   "cell_type": "code",
   "execution_count": 42,
   "metadata": {},
   "outputs": [
    {
     "data": {
      "text/plain": [
       "(10866, 7)"
      ]
     },
     "execution_count": 42,
     "metadata": {},
     "output_type": "execute_result"
    }
   ],
   "source": [
    "df.shape"
   ]
  },
  {
   "cell_type": "code",
   "execution_count": 43,
   "metadata": {},
   "outputs": [],
   "source": [
    "#removing null values\n",
    "df = df.dropna()"
   ]
  },
  {
   "cell_type": "code",
   "execution_count": 44,
   "metadata": {
    "scrolled": true
   },
   "outputs": [
    {
     "name": "stdout",
     "output_type": "stream",
     "text": [
      "<class 'pandas.core.frame.DataFrame'>\n",
      "Int64Index: 10768 entries, 0 to 10865\n",
      "Data columns (total 7 columns):\n",
      " #   Column          Non-Null Count  Dtype \n",
      "---  ------          --------------  ----- \n",
      " 0   budget          10768 non-null  int64 \n",
      " 1   revenue         10768 non-null  int64 \n",
      " 2   runtime         10768 non-null  int64 \n",
      " 3   release_year    10768 non-null  int64 \n",
      " 4   genres          10768 non-null  object\n",
      " 5   original_title  10768 non-null  object\n",
      " 6   cast            10768 non-null  object\n",
      "dtypes: int64(4), object(3)\n",
      "memory usage: 673.0+ KB\n"
     ]
    }
   ],
   "source": [
    "df.shape\n",
    "df.info()"
   ]
  },
  {
   "cell_type": "code",
   "execution_count": 45,
   "metadata": {},
   "outputs": [],
   "source": [
    "#treating values of zero in the budget and revenue field as missing(as it is given in description of database > https://www.kaggle.com/tmdb/tmdb-movie-metadata)\n",
    "df = df[df.budget != 0]\n",
    "df = df[df.revenue != 0]"
   ]
  },
  {
   "cell_type": "code",
   "execution_count": 46,
   "metadata": {},
   "outputs": [
    {
     "data": {
      "text/plain": [
       "(3851, 7)"
      ]
     },
     "execution_count": 46,
     "metadata": {},
     "output_type": "execute_result"
    }
   ],
   "source": [
    "df.shape"
   ]
  },
  {
   "cell_type": "code",
   "execution_count": 47,
   "metadata": {},
   "outputs": [],
   "source": [
    "df = df.drop_duplicates()"
   ]
  },
  {
   "cell_type": "code",
   "execution_count": 48,
   "metadata": {},
   "outputs": [
    {
     "data": {
      "text/plain": [
       "(3850, 7)"
      ]
     },
     "execution_count": 48,
     "metadata": {},
     "output_type": "execute_result"
    }
   ],
   "source": [
    "df.shape"
   ]
  },
  {
   "cell_type": "markdown",
   "metadata": {},
   "source": [
    "# Question-1 Which are the movies with the third-lowest and third-highest budget?"
   ]
  },
  {
   "cell_type": "code",
   "execution_count": 49,
   "metadata": {},
   "outputs": [],
   "source": [
    "unique_values_of_budget = df['budget'].unique()"
   ]
  },
  {
   "cell_type": "code",
   "execution_count": 50,
   "metadata": {},
   "outputs": [
    {
     "data": {
      "text/plain": [
       "numpy.ndarray"
      ]
     },
     "execution_count": 50,
     "metadata": {},
     "output_type": "execute_result"
    }
   ],
   "source": [
    "type(unique_values_of_budget)"
   ]
  },
  {
   "cell_type": "code",
   "execution_count": 51,
   "metadata": {},
   "outputs": [],
   "source": [
    "import numpy as np\n",
    "third_largest_budget = np.sort(unique_values_of_budget)[-3]\n",
    "third_smallest_budget = np.sort(unique_values_of_budget)[2]"
   ]
  },
  {
   "cell_type": "code",
   "execution_count": 52,
   "metadata": {},
   "outputs": [
    {
     "data": {
      "text/plain": [
       "array([        1,         2,         3,         6,         8,        10,\n",
       "              11,        15,        20,        21,        25,        30,\n",
       "              68,        75,        93,       113,       114,      7000,\n",
       "            8000,     10000,     12000,     15000,     17000,     25000,\n",
       "           27000,     30000,     31192,     40000,     45202,     50000,\n",
       "           60000,     65000,     74050,     79000,     85000,    100000,\n",
       "          125000,    130000,    134005,    160000,    169000,    200000,\n",
       "          220000,    230000,    250000,    300000,    318000,    350000,\n",
       "          400000,    425000,    441892,    447524,    450000,    475000,\n",
       "          500000,    550000,    569217,    600000,    645180,    650000,\n",
       "          700000,    725000,    750000,    777000,    786675,    800000,\n",
       "          806948,    810000,    818418,    823258,    850000,    860000,\n",
       "          900000,    930000,    950000,    967686,    994000,   1000000,\n",
       "         1052753,   1100000,   1200000,   1250000,   1300000,   1350000,\n",
       "         1500000,   1549000,   1600000,   1700000,   1746964,   1750000,\n",
       "         1800000,   1880006,   1900000,   1987650,   2000000,   2079000,\n",
       "         2135161,   2200000,   2300000,   2380000,   2400000,   2410000,\n",
       "         2500000,   2550000,   2600000,   2650000,   2700000,   2800000,\n",
       "         2840000,   2900000,   2962051,   3000000,   3200000,   3300000,\n",
       "         3352254,   3400000,   3500000,   3500159,   3600000,   3700000,\n",
       "         3705538,   3716946,   3730500,   3800000,   4000000,   4100000,\n",
       "         4180000,   4200000,   4317946,   4361898,   4500000,   4600000,\n",
       "         4653000,   4700000,   4750000,   4798235,   4800000,   4900000,\n",
       "         5000000,   5037000,   5115000,   5200000,   5500000,   5600000,\n",
       "         5773100,   5800000,   5900000,   5952000,   5990000,   6000000,\n",
       "         6200000,   6244087,   6300000,   6400000,   6500000,   6600000,\n",
       "         6700000,   6800000,   6900000,   7000000,   7200000,   7300000,\n",
       "         7400000,   7500000,   7700000,   7800000,   7920000,   8000000,\n",
       "         8045760,   8169363,   8200000,   8256269,   8376800,   8500000,\n",
       "         8900000,   9000000,   9100000,   9500000,   9600000,  10000000,\n",
       "        10200000,  10284523,  10500000,  10700000,  10800000,  10831173,\n",
       "        10900000,  11000000,  11500000,  11700000,  11800000,  11930000,\n",
       "        12000000,  12250000,  12300000,  12305523,  12468389,  12500000,\n",
       "        12600000,  12700000,  12800000,  13000000,  13200000,  13300000,\n",
       "        13500000,  13800000,  14000000,  14200000,  14350531,  14400000,\n",
       "        14500000,  14600000,  14700000,  14800000,  15000000,  15500000,\n",
       "        15774948,  16000000,  16400000,  16500000,  16800000,  17000000,\n",
       "        17080000,  17500000,  17700000,  17900000,  18000000,  18500000,\n",
       "        18598420,  19000000,  19100000,  19250000,  19500000,  19800000,\n",
       "        19885552,  20000000,  20500000,  21000000,  21150000,  22000000,\n",
       "        22500000,  22700000,  23000000,  23600000,  24000000,  24500000,\n",
       "        25000000,  25100000,  25485000,  25500000,  25530000,  26000000,\n",
       "        26350000,  27000000,  27220000,  27500000,  28000000,  29000000,\n",
       "        29500000,  30000000,  30250000,  31000000,  31115000,  31500000,\n",
       "        32000000,  32350000,  32500000,  33000000,  34000000,  34200000,\n",
       "        35000000,  36000000,  37000000,  37665000,  37931000,  38000000,\n",
       "        39000000,  40000000,  40600000,  41000000,  41300000,  42000000,\n",
       "        43000000,  44000000,  44500000,  45000000,  46000000,  47000000,\n",
       "        48000000,  49000000,  49900000,  50000000,  50100000,  50200000,\n",
       "        51000000,  51500000,  52000000,  52500000,  53000000,  54000000,\n",
       "        55000000,  56000000,  57000000,  58000000,  58800000,  59000000,\n",
       "        60000000,  60795000,  61000000,  62000000,  63000000,  63600000,\n",
       "        64000000,  65000000,  66000000,  67000000,  68000000,  69000000,\n",
       "        70000000,  71000000,  72000000,  72500000,  73000000,  74000000,\n",
       "        74500000,  75000000,  76000000,  78000000,  78146652,  79000000,\n",
       "        80000000,  81000000,  82000000,  82500000,  83000000,  84000000,\n",
       "        85000000,  86000000,  87000000,  88000000,  90000000,  92000000,\n",
       "        93000000,  94000000,  95000000,  98000000,  99000000, 100000000,\n",
       "       102000000, 103000000, 105000000, 107000000, 108000000, 110000000,\n",
       "       112000000, 113000000, 115000000, 116000000, 117000000, 120000000,\n",
       "       120000001, 123000000, 125000000, 126000000, 127000000, 127500000,\n",
       "       130000000, 132000000, 133000000, 135000000, 137000000, 139000000,\n",
       "       140000000, 145000000, 149000000, 150000000, 155000000, 160000000,\n",
       "       163000000, 165000000, 170000000, 175000000, 176000003, 178000000,\n",
       "       180000000, 185000000, 190000000, 195000000, 200000000, 207000000,\n",
       "       209000000, 210000000, 215000000, 220000000, 225000000, 237000000,\n",
       "       245000000, 250000000, 255000000, 258000000, 260000000, 270000000,\n",
       "       280000000, 300000000, 380000000, 425000000], dtype=int64)"
      ]
     },
     "execution_count": 52,
     "metadata": {},
     "output_type": "execute_result"
    }
   ],
   "source": [
    "np.sort(unique_values_of_budget)"
   ]
  },
  {
   "cell_type": "code",
   "execution_count": 53,
   "metadata": {},
   "outputs": [
    {
     "data": {
      "text/plain": [
       "300000000"
      ]
     },
     "execution_count": 53,
     "metadata": {},
     "output_type": "execute_result"
    }
   ],
   "source": [
    "third_largest_budget"
   ]
  },
  {
   "cell_type": "code",
   "execution_count": 54,
   "metadata": {},
   "outputs": [
    {
     "data": {
      "text/plain": [
       "3"
      ]
     },
     "execution_count": 54,
     "metadata": {},
     "output_type": "execute_result"
    }
   ],
   "source": [
    "third_smallest_budget #budget=0 is considered as missing! "
   ]
  },
  {
   "cell_type": "code",
   "execution_count": 62,
   "metadata": {},
   "outputs": [
    {
     "data": {
      "text/html": [
       "<div>\n",
       "<style scoped>\n",
       "    .dataframe tbody tr th:only-of-type {\n",
       "        vertical-align: middle;\n",
       "    }\n",
       "\n",
       "    .dataframe tbody tr th {\n",
       "        vertical-align: top;\n",
       "    }\n",
       "\n",
       "    .dataframe thead th {\n",
       "        text-align: right;\n",
       "    }\n",
       "</style>\n",
       "<table border=\"1\" class=\"dataframe\">\n",
       "  <thead>\n",
       "    <tr style=\"text-align: right;\">\n",
       "      <th></th>\n",
       "      <th>original_title</th>\n",
       "    </tr>\n",
       "  </thead>\n",
       "  <tbody>\n",
       "    <tr>\n",
       "      <th>7387</th>\n",
       "      <td>Pirates of the Caribbean: At World's End</td>\n",
       "    </tr>\n",
       "  </tbody>\n",
       "</table>\n",
       "</div>"
      ],
      "text/plain": [
       "                                original_title\n",
       "7387  Pirates of the Caribbean: At World's End"
      ]
     },
     "execution_count": 62,
     "metadata": {},
     "output_type": "execute_result"
    }
   ],
   "source": [
    "df[df['budget']==third_largest_budget][['original_title']]  #third-largest-budget"
   ]
  },
  {
   "cell_type": "code",
   "execution_count": 56,
   "metadata": {},
   "outputs": [
    {
     "data": {
      "text/html": [
       "<div>\n",
       "<style scoped>\n",
       "    .dataframe tbody tr th:only-of-type {\n",
       "        vertical-align: middle;\n",
       "    }\n",
       "\n",
       "    .dataframe tbody tr th {\n",
       "        vertical-align: top;\n",
       "    }\n",
       "\n",
       "    .dataframe thead th {\n",
       "        text-align: right;\n",
       "    }\n",
       "</style>\n",
       "<table border=\"1\" class=\"dataframe\">\n",
       "  <thead>\n",
       "    <tr style=\"text-align: right;\">\n",
       "      <th></th>\n",
       "      <th>original_title</th>\n",
       "    </tr>\n",
       "  </thead>\n",
       "  <tbody>\n",
       "    <tr>\n",
       "      <th>2398</th>\n",
       "      <td>Boy</td>\n",
       "    </tr>\n",
       "    <tr>\n",
       "      <th>10050</th>\n",
       "      <td>Tales from the Darkside: The Movie</td>\n",
       "    </tr>\n",
       "  </tbody>\n",
       "</table>\n",
       "</div>"
      ],
      "text/plain": [
       "                           original_title\n",
       "2398                                  Boy\n",
       "10050  Tales from the Darkside: The Movie"
      ]
     },
     "execution_count": 56,
     "metadata": {},
     "output_type": "execute_result"
    }
   ],
   "source": [
    "df[df['budget']==third_smallest_budget][['original_title']] #third-smallest-budget"
   ]
  },
  {
   "cell_type": "markdown",
   "metadata": {},
   "source": [
    "# Question-2 What is the most common Genre for Vin Diesel & Emma Watson movies?"
   ]
  },
  {
   "cell_type": "code",
   "execution_count": 22,
   "metadata": {},
   "outputs": [],
   "source": [
    "df_vin = df[df['cast'].str.contains('Vin Diesel')]"
   ]
  },
  {
   "cell_type": "code",
   "execution_count": 23,
   "metadata": {},
   "outputs": [
    {
     "data": {
      "text/html": [
       "<div>\n",
       "<style scoped>\n",
       "    .dataframe tbody tr th:only-of-type {\n",
       "        vertical-align: middle;\n",
       "    }\n",
       "\n",
       "    .dataframe tbody tr th {\n",
       "        vertical-align: top;\n",
       "    }\n",
       "\n",
       "    .dataframe thead th {\n",
       "        text-align: right;\n",
       "    }\n",
       "</style>\n",
       "<table border=\"1\" class=\"dataframe\">\n",
       "  <thead>\n",
       "    <tr style=\"text-align: right;\">\n",
       "      <th></th>\n",
       "      <th>budget</th>\n",
       "      <th>revenue</th>\n",
       "      <th>runtime</th>\n",
       "      <th>release_year</th>\n",
       "      <th>genres</th>\n",
       "      <th>original_title</th>\n",
       "      <th>cast</th>\n",
       "    </tr>\n",
       "  </thead>\n",
       "  <tbody>\n",
       "    <tr>\n",
       "      <th>4</th>\n",
       "      <td>190000000</td>\n",
       "      <td>1506249360</td>\n",
       "      <td>137</td>\n",
       "      <td>2015</td>\n",
       "      <td>Action|Crime|Thriller</td>\n",
       "      <td>Furious 7</td>\n",
       "      <td>Vin Diesel|Paul Walker|Jason Statham|Michelle ...</td>\n",
       "    </tr>\n",
       "    <tr>\n",
       "      <th>41</th>\n",
       "      <td>90000000</td>\n",
       "      <td>140396650</td>\n",
       "      <td>106</td>\n",
       "      <td>2015</td>\n",
       "      <td>Fantasy|Action|Adventure</td>\n",
       "      <td>The Last Witch Hunter</td>\n",
       "      <td>Vin Diesel|Rose Leslie|Michael Caine|Elijah Wo...</td>\n",
       "    </tr>\n",
       "    <tr>\n",
       "      <th>630</th>\n",
       "      <td>170000000</td>\n",
       "      <td>773312399</td>\n",
       "      <td>121</td>\n",
       "      <td>2014</td>\n",
       "      <td>Action|Science Fiction|Adventure</td>\n",
       "      <td>Guardians of the Galaxy</td>\n",
       "      <td>Chris Pratt|Zoe Saldana|Dave Bautista|Vin Dies...</td>\n",
       "    </tr>\n",
       "    <tr>\n",
       "      <th>1539</th>\n",
       "      <td>85000000</td>\n",
       "      <td>363164265</td>\n",
       "      <td>107</td>\n",
       "      <td>2009</td>\n",
       "      <td>Action|Crime|Drama|Thriller</td>\n",
       "      <td>Fast &amp; Furious</td>\n",
       "      <td>Vin Diesel|Paul Walker|Jordana Brewster|Michel...</td>\n",
       "    </tr>\n",
       "    <tr>\n",
       "      <th>2438</th>\n",
       "      <td>70000000</td>\n",
       "      <td>23159305</td>\n",
       "      <td>86</td>\n",
       "      <td>1999</td>\n",
       "      <td>Adventure|Animation|Family|Fantasy|Science Fic...</td>\n",
       "      <td>The Iron Giant</td>\n",
       "      <td>Jennifer Aniston|Harry Connick Jr.|Vin Diesel|...</td>\n",
       "    </tr>\n",
       "    <tr>\n",
       "      <th>2753</th>\n",
       "      <td>38000000</td>\n",
       "      <td>207283925</td>\n",
       "      <td>106</td>\n",
       "      <td>2001</td>\n",
       "      <td>Action|Crime|Thriller</td>\n",
       "      <td>The Fast and the Furious</td>\n",
       "      <td>Paul Walker|Vin Diesel|Michelle Rodriguez|Jord...</td>\n",
       "    </tr>\n",
       "    <tr>\n",
       "      <th>2766</th>\n",
       "      <td>15000000</td>\n",
       "      <td>12000000</td>\n",
       "      <td>92</td>\n",
       "      <td>2001</td>\n",
       "      <td>Crime|Thriller</td>\n",
       "      <td>Knockaround Guys</td>\n",
       "      <td>Barry Pepper|Andy Davoli|Seth Green|Vin Diesel...</td>\n",
       "    </tr>\n",
       "    <tr>\n",
       "      <th>2942</th>\n",
       "      <td>70000000</td>\n",
       "      <td>72108608</td>\n",
       "      <td>101</td>\n",
       "      <td>2008</td>\n",
       "      <td>Action|Adventure|Science Fiction|Thriller</td>\n",
       "      <td>Babylon A.D.</td>\n",
       "      <td>Vin Diesel|Michelle Yeoh|MÃ©lanie Thierry|Lamb...</td>\n",
       "    </tr>\n",
       "    <tr>\n",
       "      <th>3619</th>\n",
       "      <td>125000000</td>\n",
       "      <td>626137675</td>\n",
       "      <td>130</td>\n",
       "      <td>2011</td>\n",
       "      <td>Action|Thriller|Crime</td>\n",
       "      <td>Fast Five</td>\n",
       "      <td>Vin Diesel|Paul Walker|Dwayne Johnson|Jordana ...</td>\n",
       "    </tr>\n",
       "    <tr>\n",
       "      <th>3924</th>\n",
       "      <td>70000000</td>\n",
       "      <td>277448382</td>\n",
       "      <td>124</td>\n",
       "      <td>2002</td>\n",
       "      <td>Action</td>\n",
       "      <td>xXx</td>\n",
       "      <td>Vin Diesel|Asia Argento|Marton Csokas|Samuel L...</td>\n",
       "    </tr>\n",
       "    <tr>\n",
       "      <th>4974</th>\n",
       "      <td>36000000</td>\n",
       "      <td>44350926</td>\n",
       "      <td>109</td>\n",
       "      <td>2003</td>\n",
       "      <td>Action|Drama</td>\n",
       "      <td>A Man Apart</td>\n",
       "      <td>Vin Diesel|Larenz Tate|Timothy Olyphant|Geno S...</td>\n",
       "    </tr>\n",
       "    <tr>\n",
       "      <th>5437</th>\n",
       "      <td>38000000</td>\n",
       "      <td>98337295</td>\n",
       "      <td>119</td>\n",
       "      <td>2013</td>\n",
       "      <td>Science Fiction|Action|Thriller</td>\n",
       "      <td>Riddick</td>\n",
       "      <td>Vin Diesel|Karl Urban|Katee Sackhoff|Jordi Mol...</td>\n",
       "    </tr>\n",
       "    <tr>\n",
       "      <th>5650</th>\n",
       "      <td>160000000</td>\n",
       "      <td>788679850</td>\n",
       "      <td>130</td>\n",
       "      <td>2013</td>\n",
       "      <td>Action|Thriller|Crime</td>\n",
       "      <td>Fast &amp; Furious 6</td>\n",
       "      <td>Paul Walker|Vin Diesel|Dwayne Johnson|Jordana ...</td>\n",
       "    </tr>\n",
       "    <tr>\n",
       "      <th>6204</th>\n",
       "      <td>56000000</td>\n",
       "      <td>113006880</td>\n",
       "      <td>95</td>\n",
       "      <td>2005</td>\n",
       "      <td>Action|Comedy|Drama|Family|Thriller</td>\n",
       "      <td>The Pacifier</td>\n",
       "      <td>Vin Diesel|Lauren Graham|Faith Ford|Chris Pott...</td>\n",
       "    </tr>\n",
       "    <tr>\n",
       "      <th>7024</th>\n",
       "      <td>105000000</td>\n",
       "      <td>115772733</td>\n",
       "      <td>119</td>\n",
       "      <td>2004</td>\n",
       "      <td>Adventure|Action|Thriller|Science Fiction</td>\n",
       "      <td>The Chronicles of Riddick</td>\n",
       "      <td>Vin Diesel|Christina Cox|Colm Feore|Karl Urban...</td>\n",
       "    </tr>\n",
       "    <tr>\n",
       "      <th>8684</th>\n",
       "      <td>23000000</td>\n",
       "      <td>53187659</td>\n",
       "      <td>109</td>\n",
       "      <td>2000</td>\n",
       "      <td>Thriller|Science Fiction|Action</td>\n",
       "      <td>Pitch Black</td>\n",
       "      <td>Vin Diesel|Radha Mitchell|Cole Hauser|Rhiana G...</td>\n",
       "    </tr>\n",
       "    <tr>\n",
       "      <th>8685</th>\n",
       "      <td>26000000</td>\n",
       "      <td>28780255</td>\n",
       "      <td>118</td>\n",
       "      <td>2000</td>\n",
       "      <td>Crime|Drama|Thriller</td>\n",
       "      <td>Boiler Room</td>\n",
       "      <td>Giovanni Ribisi|Vin Diesel|Nia Long|Tom Everet...</td>\n",
       "    </tr>\n",
       "  </tbody>\n",
       "</table>\n",
       "</div>"
      ],
      "text/plain": [
       "         budget     revenue  runtime  release_year  \\\n",
       "4     190000000  1506249360      137          2015   \n",
       "41     90000000   140396650      106          2015   \n",
       "630   170000000   773312399      121          2014   \n",
       "1539   85000000   363164265      107          2009   \n",
       "2438   70000000    23159305       86          1999   \n",
       "2753   38000000   207283925      106          2001   \n",
       "2766   15000000    12000000       92          2001   \n",
       "2942   70000000    72108608      101          2008   \n",
       "3619  125000000   626137675      130          2011   \n",
       "3924   70000000   277448382      124          2002   \n",
       "4974   36000000    44350926      109          2003   \n",
       "5437   38000000    98337295      119          2013   \n",
       "5650  160000000   788679850      130          2013   \n",
       "6204   56000000   113006880       95          2005   \n",
       "7024  105000000   115772733      119          2004   \n",
       "8684   23000000    53187659      109          2000   \n",
       "8685   26000000    28780255      118          2000   \n",
       "\n",
       "                                                 genres  \\\n",
       "4                                 Action|Crime|Thriller   \n",
       "41                             Fantasy|Action|Adventure   \n",
       "630                    Action|Science Fiction|Adventure   \n",
       "1539                        Action|Crime|Drama|Thriller   \n",
       "2438  Adventure|Animation|Family|Fantasy|Science Fic...   \n",
       "2753                              Action|Crime|Thriller   \n",
       "2766                                     Crime|Thriller   \n",
       "2942          Action|Adventure|Science Fiction|Thriller   \n",
       "3619                              Action|Thriller|Crime   \n",
       "3924                                             Action   \n",
       "4974                                       Action|Drama   \n",
       "5437                    Science Fiction|Action|Thriller   \n",
       "5650                              Action|Thriller|Crime   \n",
       "6204                Action|Comedy|Drama|Family|Thriller   \n",
       "7024          Adventure|Action|Thriller|Science Fiction   \n",
       "8684                    Thriller|Science Fiction|Action   \n",
       "8685                               Crime|Drama|Thriller   \n",
       "\n",
       "                 original_title  \\\n",
       "4                     Furious 7   \n",
       "41        The Last Witch Hunter   \n",
       "630     Guardians of the Galaxy   \n",
       "1539             Fast & Furious   \n",
       "2438             The Iron Giant   \n",
       "2753   The Fast and the Furious   \n",
       "2766           Knockaround Guys   \n",
       "2942               Babylon A.D.   \n",
       "3619                  Fast Five   \n",
       "3924                        xXx   \n",
       "4974                A Man Apart   \n",
       "5437                    Riddick   \n",
       "5650           Fast & Furious 6   \n",
       "6204               The Pacifier   \n",
       "7024  The Chronicles of Riddick   \n",
       "8684                Pitch Black   \n",
       "8685                Boiler Room   \n",
       "\n",
       "                                                   cast  \n",
       "4     Vin Diesel|Paul Walker|Jason Statham|Michelle ...  \n",
       "41    Vin Diesel|Rose Leslie|Michael Caine|Elijah Wo...  \n",
       "630   Chris Pratt|Zoe Saldana|Dave Bautista|Vin Dies...  \n",
       "1539  Vin Diesel|Paul Walker|Jordana Brewster|Michel...  \n",
       "2438  Jennifer Aniston|Harry Connick Jr.|Vin Diesel|...  \n",
       "2753  Paul Walker|Vin Diesel|Michelle Rodriguez|Jord...  \n",
       "2766  Barry Pepper|Andy Davoli|Seth Green|Vin Diesel...  \n",
       "2942  Vin Diesel|Michelle Yeoh|MÃ©lanie Thierry|Lamb...  \n",
       "3619  Vin Diesel|Paul Walker|Dwayne Johnson|Jordana ...  \n",
       "3924  Vin Diesel|Asia Argento|Marton Csokas|Samuel L...  \n",
       "4974  Vin Diesel|Larenz Tate|Timothy Olyphant|Geno S...  \n",
       "5437  Vin Diesel|Karl Urban|Katee Sackhoff|Jordi Mol...  \n",
       "5650  Paul Walker|Vin Diesel|Dwayne Johnson|Jordana ...  \n",
       "6204  Vin Diesel|Lauren Graham|Faith Ford|Chris Pott...  \n",
       "7024  Vin Diesel|Christina Cox|Colm Feore|Karl Urban...  \n",
       "8684  Vin Diesel|Radha Mitchell|Cole Hauser|Rhiana G...  \n",
       "8685  Giovanni Ribisi|Vin Diesel|Nia Long|Tom Everet...  "
      ]
     },
     "execution_count": 23,
     "metadata": {},
     "output_type": "execute_result"
    }
   ],
   "source": [
    "df_vin"
   ]
  },
  {
   "cell_type": "code",
   "execution_count": 24,
   "metadata": {},
   "outputs": [
    {
     "data": {
      "text/plain": [
       "4                               [Action, Crime, Thriller]\n",
       "41                           [Fantasy, Action, Adventure]\n",
       "630                  [Action, Science Fiction, Adventure]\n",
       "1539                     [Action, Crime, Drama, Thriller]\n",
       "2438    [Adventure, Animation, Family, Fantasy, Scienc...\n",
       "2753                            [Action, Crime, Thriller]\n",
       "2766                                    [Crime, Thriller]\n",
       "2942       [Action, Adventure, Science Fiction, Thriller]\n",
       "3619                            [Action, Thriller, Crime]\n",
       "3924                                             [Action]\n",
       "4974                                      [Action, Drama]\n",
       "5437                  [Science Fiction, Action, Thriller]\n",
       "5650                            [Action, Thriller, Crime]\n",
       "6204            [Action, Comedy, Drama, Family, Thriller]\n",
       "7024       [Adventure, Action, Thriller, Science Fiction]\n",
       "8684                  [Thriller, Science Fiction, Action]\n",
       "8685                             [Crime, Drama, Thriller]\n",
       "Name: genres, dtype: object"
      ]
     },
     "execution_count": 24,
     "metadata": {},
     "output_type": "execute_result"
    }
   ],
   "source": [
    "genres_list_for_vin = df_vin['genres'].str.split('|')\n",
    "genres_list_for_vin"
   ]
  },
  {
   "cell_type": "code",
   "execution_count": 25,
   "metadata": {},
   "outputs": [
    {
     "data": {
      "text/plain": [
       "{'Action': 14,\n",
       " 'Crime': 7,\n",
       " 'Thriller': 12,\n",
       " 'Fantasy': 2,\n",
       " 'Adventure': 5,\n",
       " 'Science Fiction': 6,\n",
       " 'Drama': 4,\n",
       " 'Animation': 1,\n",
       " 'Family': 2,\n",
       " 'Comedy': 1}"
      ]
     },
     "execution_count": 25,
     "metadata": {},
     "output_type": "execute_result"
    }
   ],
   "source": [
    "unique_genres_for_vin={}\n",
    "for i in genres_list_for_vin:\n",
    "    for j in i:\n",
    "        if j not in unique_genres_for_vin:\n",
    "            unique_genres_for_vin[j]=1\n",
    "        else:\n",
    "            unique_genres_for_vin[j]=unique_genres_for_vin[j]+1\n",
    "unique_genres_for_vin"
   ]
  },
  {
   "cell_type": "code",
   "execution_count": 26,
   "metadata": {},
   "outputs": [
    {
     "name": "stdout",
     "output_type": "stream",
     "text": [
      "Most common genre for Vin Diesel :  Action\n"
     ]
    }
   ],
   "source": [
    "most_common_genre_for_vin = max(unique_genres_for_vin, key=unique_genres_for_vin.get)\n",
    "print(\"Most common genre for Vin Diesel : \",most_common_genre_for_vin)"
   ]
  },
  {
   "cell_type": "code",
   "execution_count": 27,
   "metadata": {},
   "outputs": [
    {
     "data": {
      "text/html": [
       "<div>\n",
       "<style scoped>\n",
       "    .dataframe tbody tr th:only-of-type {\n",
       "        vertical-align: middle;\n",
       "    }\n",
       "\n",
       "    .dataframe tbody tr th {\n",
       "        vertical-align: top;\n",
       "    }\n",
       "\n",
       "    .dataframe thead th {\n",
       "        text-align: right;\n",
       "    }\n",
       "</style>\n",
       "<table border=\"1\" class=\"dataframe\">\n",
       "  <thead>\n",
       "    <tr style=\"text-align: right;\">\n",
       "      <th></th>\n",
       "      <th>budget</th>\n",
       "      <th>revenue</th>\n",
       "      <th>runtime</th>\n",
       "      <th>release_year</th>\n",
       "      <th>genres</th>\n",
       "      <th>original_title</th>\n",
       "      <th>cast</th>\n",
       "    </tr>\n",
       "  </thead>\n",
       "  <tbody>\n",
       "    <tr>\n",
       "      <th>686</th>\n",
       "      <td>125000000</td>\n",
       "      <td>362637473</td>\n",
       "      <td>139</td>\n",
       "      <td>2014</td>\n",
       "      <td>Drama|Adventure</td>\n",
       "      <td>Noah</td>\n",
       "      <td>Russell Crowe|Jennifer Connelly|Emma Watson|Lo...</td>\n",
       "    </tr>\n",
       "    <tr>\n",
       "      <th>1389</th>\n",
       "      <td>250000000</td>\n",
       "      <td>933959197</td>\n",
       "      <td>153</td>\n",
       "      <td>2009</td>\n",
       "      <td>Adventure|Fantasy|Family</td>\n",
       "      <td>Harry Potter and the Half-Blood Prince</td>\n",
       "      <td>Daniel Radcliffe|Rupert Grint|Emma Watson|Tom ...</td>\n",
       "    </tr>\n",
       "    <tr>\n",
       "      <th>1923</th>\n",
       "      <td>250000000</td>\n",
       "      <td>954305868</td>\n",
       "      <td>146</td>\n",
       "      <td>2010</td>\n",
       "      <td>Adventure|Fantasy|Family</td>\n",
       "      <td>Harry Potter and the Deathly Hallows: Part 1</td>\n",
       "      <td>Daniel Radcliffe|Emma Watson|Rupert Grint|Ralp...</td>\n",
       "    </tr>\n",
       "    <tr>\n",
       "      <th>2634</th>\n",
       "      <td>125000000</td>\n",
       "      <td>976475550</td>\n",
       "      <td>152</td>\n",
       "      <td>2001</td>\n",
       "      <td>Adventure|Fantasy|Family</td>\n",
       "      <td>Harry Potter and the Philosopher's Stone</td>\n",
       "      <td>Daniel Radcliffe|Rupert Grint|Emma Watson|John...</td>\n",
       "    </tr>\n",
       "    <tr>\n",
       "      <th>3020</th>\n",
       "      <td>60000000</td>\n",
       "      <td>50877145</td>\n",
       "      <td>100</td>\n",
       "      <td>2008</td>\n",
       "      <td>Animation|Comedy|Family</td>\n",
       "      <td>The Tale of Despereaux</td>\n",
       "      <td>Matthew Broderick|Dustin Hoffman|Emma Watson|T...</td>\n",
       "    </tr>\n",
       "    <tr>\n",
       "      <th>3374</th>\n",
       "      <td>125000000</td>\n",
       "      <td>1327817822</td>\n",
       "      <td>130</td>\n",
       "      <td>2011</td>\n",
       "      <td>Adventure|Family|Fantasy</td>\n",
       "      <td>Harry Potter and the Deathly Hallows: Part 2</td>\n",
       "      <td>Daniel Radcliffe|Rupert Grint|Emma Watson|Alan...</td>\n",
       "    </tr>\n",
       "    <tr>\n",
       "      <th>3912</th>\n",
       "      <td>100000000</td>\n",
       "      <td>876688482</td>\n",
       "      <td>161</td>\n",
       "      <td>2002</td>\n",
       "      <td>Adventure|Fantasy|Family</td>\n",
       "      <td>Harry Potter and the Chamber of Secrets</td>\n",
       "      <td>Daniel Radcliffe|Rupert Grint|Emma Watson|Kenn...</td>\n",
       "    </tr>\n",
       "    <tr>\n",
       "      <th>4388</th>\n",
       "      <td>13000000</td>\n",
       "      <td>33400000</td>\n",
       "      <td>102</td>\n",
       "      <td>2012</td>\n",
       "      <td>Drama|Romance</td>\n",
       "      <td>The Perks of Being a Wallflower</td>\n",
       "      <td>Logan Lerman|Emma Watson|Ezra Miller|Paul Rudd...</td>\n",
       "    </tr>\n",
       "    <tr>\n",
       "      <th>5546</th>\n",
       "      <td>15000000</td>\n",
       "      <td>19145732</td>\n",
       "      <td>90</td>\n",
       "      <td>2013</td>\n",
       "      <td>Drama|Crime</td>\n",
       "      <td>The Bling Ring</td>\n",
       "      <td>Emma Watson|Israel Broussard|Taissa Farmiga|Ka...</td>\n",
       "    </tr>\n",
       "    <tr>\n",
       "      <th>6190</th>\n",
       "      <td>150000000</td>\n",
       "      <td>895921036</td>\n",
       "      <td>157</td>\n",
       "      <td>2005</td>\n",
       "      <td>Adventure|Fantasy|Family</td>\n",
       "      <td>Harry Potter and the Goblet of Fire</td>\n",
       "      <td>Daniel Radcliffe|Rupert Grint|Emma Watson|Ralp...</td>\n",
       "    </tr>\n",
       "    <tr>\n",
       "      <th>6962</th>\n",
       "      <td>130000000</td>\n",
       "      <td>789804554</td>\n",
       "      <td>141</td>\n",
       "      <td>2004</td>\n",
       "      <td>Adventure|Fantasy|Family</td>\n",
       "      <td>Harry Potter and the Prisoner of Azkaban</td>\n",
       "      <td>Daniel Radcliffe|Rupert Grint|Emma Watson|Gary...</td>\n",
       "    </tr>\n",
       "    <tr>\n",
       "      <th>7388</th>\n",
       "      <td>150000000</td>\n",
       "      <td>938212738</td>\n",
       "      <td>138</td>\n",
       "      <td>2007</td>\n",
       "      <td>Adventure|Fantasy|Family|Mystery</td>\n",
       "      <td>Harry Potter and the Order of the Phoenix</td>\n",
       "      <td>Daniel Radcliffe|Rupert Grint|Emma Watson|Mich...</td>\n",
       "    </tr>\n",
       "  </tbody>\n",
       "</table>\n",
       "</div>"
      ],
      "text/plain": [
       "         budget     revenue  runtime  release_year  \\\n",
       "686   125000000   362637473      139          2014   \n",
       "1389  250000000   933959197      153          2009   \n",
       "1923  250000000   954305868      146          2010   \n",
       "2634  125000000   976475550      152          2001   \n",
       "3020   60000000    50877145      100          2008   \n",
       "3374  125000000  1327817822      130          2011   \n",
       "3912  100000000   876688482      161          2002   \n",
       "4388   13000000    33400000      102          2012   \n",
       "5546   15000000    19145732       90          2013   \n",
       "6190  150000000   895921036      157          2005   \n",
       "6962  130000000   789804554      141          2004   \n",
       "7388  150000000   938212738      138          2007   \n",
       "\n",
       "                                genres  \\\n",
       "686                    Drama|Adventure   \n",
       "1389          Adventure|Fantasy|Family   \n",
       "1923          Adventure|Fantasy|Family   \n",
       "2634          Adventure|Fantasy|Family   \n",
       "3020           Animation|Comedy|Family   \n",
       "3374          Adventure|Family|Fantasy   \n",
       "3912          Adventure|Fantasy|Family   \n",
       "4388                     Drama|Romance   \n",
       "5546                       Drama|Crime   \n",
       "6190          Adventure|Fantasy|Family   \n",
       "6962          Adventure|Fantasy|Family   \n",
       "7388  Adventure|Fantasy|Family|Mystery   \n",
       "\n",
       "                                    original_title  \\\n",
       "686                                           Noah   \n",
       "1389        Harry Potter and the Half-Blood Prince   \n",
       "1923  Harry Potter and the Deathly Hallows: Part 1   \n",
       "2634      Harry Potter and the Philosopher's Stone   \n",
       "3020                        The Tale of Despereaux   \n",
       "3374  Harry Potter and the Deathly Hallows: Part 2   \n",
       "3912       Harry Potter and the Chamber of Secrets   \n",
       "4388               The Perks of Being a Wallflower   \n",
       "5546                                The Bling Ring   \n",
       "6190           Harry Potter and the Goblet of Fire   \n",
       "6962      Harry Potter and the Prisoner of Azkaban   \n",
       "7388     Harry Potter and the Order of the Phoenix   \n",
       "\n",
       "                                                   cast  \n",
       "686   Russell Crowe|Jennifer Connelly|Emma Watson|Lo...  \n",
       "1389  Daniel Radcliffe|Rupert Grint|Emma Watson|Tom ...  \n",
       "1923  Daniel Radcliffe|Emma Watson|Rupert Grint|Ralp...  \n",
       "2634  Daniel Radcliffe|Rupert Grint|Emma Watson|John...  \n",
       "3020  Matthew Broderick|Dustin Hoffman|Emma Watson|T...  \n",
       "3374  Daniel Radcliffe|Rupert Grint|Emma Watson|Alan...  \n",
       "3912  Daniel Radcliffe|Rupert Grint|Emma Watson|Kenn...  \n",
       "4388  Logan Lerman|Emma Watson|Ezra Miller|Paul Rudd...  \n",
       "5546  Emma Watson|Israel Broussard|Taissa Farmiga|Ka...  \n",
       "6190  Daniel Radcliffe|Rupert Grint|Emma Watson|Ralp...  \n",
       "6962  Daniel Radcliffe|Rupert Grint|Emma Watson|Gary...  \n",
       "7388  Daniel Radcliffe|Rupert Grint|Emma Watson|Mich...  "
      ]
     },
     "execution_count": 27,
     "metadata": {},
     "output_type": "execute_result"
    }
   ],
   "source": [
    "df_emma = df[df['cast'].str.contains('Emma Watson')]\n",
    "df_emma"
   ]
  },
  {
   "cell_type": "code",
   "execution_count": 28,
   "metadata": {},
   "outputs": [
    {
     "data": {
      "text/plain": [
       "686                        [Drama, Adventure]\n",
       "1389             [Adventure, Fantasy, Family]\n",
       "1923             [Adventure, Fantasy, Family]\n",
       "2634             [Adventure, Fantasy, Family]\n",
       "3020              [Animation, Comedy, Family]\n",
       "3374             [Adventure, Family, Fantasy]\n",
       "3912             [Adventure, Fantasy, Family]\n",
       "4388                         [Drama, Romance]\n",
       "5546                           [Drama, Crime]\n",
       "6190             [Adventure, Fantasy, Family]\n",
       "6962             [Adventure, Fantasy, Family]\n",
       "7388    [Adventure, Fantasy, Family, Mystery]\n",
       "Name: genres, dtype: object"
      ]
     },
     "execution_count": 28,
     "metadata": {},
     "output_type": "execute_result"
    }
   ],
   "source": [
    "genres_list_for_emma = df_emma['genres'].str.split('|')\n",
    "genres_list_for_emma"
   ]
  },
  {
   "cell_type": "code",
   "execution_count": 29,
   "metadata": {},
   "outputs": [
    {
     "data": {
      "text/plain": [
       "{'Drama': 3,\n",
       " 'Adventure': 9,\n",
       " 'Fantasy': 8,\n",
       " 'Family': 9,\n",
       " 'Animation': 1,\n",
       " 'Comedy': 1,\n",
       " 'Romance': 1,\n",
       " 'Crime': 1,\n",
       " 'Mystery': 1}"
      ]
     },
     "execution_count": 29,
     "metadata": {},
     "output_type": "execute_result"
    }
   ],
   "source": [
    "unique_genres_for_emma={}\n",
    "for i in genres_list_for_emma:\n",
    "    for j in i:\n",
    "        if j not in unique_genres_for_emma:\n",
    "            unique_genres_for_emma[j]=1\n",
    "        else:\n",
    "            unique_genres_for_emma[j]=unique_genres_for_emma[j]+1\n",
    "unique_genres_for_emma"
   ]
  },
  {
   "cell_type": "code",
   "execution_count": 30,
   "metadata": {},
   "outputs": [
    {
     "name": "stdout",
     "output_type": "stream",
     "text": [
      "Most common genre for Emma Watson :  Adventure\n"
     ]
    }
   ],
   "source": [
    "most_common_genre_for_emma = max(unique_genres_for_emma, key=unique_genres_for_emma.get)\n",
    "print(\"Most common genre for Emma Watson : \",most_common_genre_for_emma)"
   ]
  },
  {
   "cell_type": "markdown",
   "metadata": {},
   "source": [
    "# Question-3 Which are the movies with the most and least earned revenue?"
   ]
  },
  {
   "cell_type": "code",
   "execution_count": 31,
   "metadata": {},
   "outputs": [
    {
     "name": "stdout",
     "output_type": "stream",
     "text": [
      "Highest revenue :  2781505847\n",
      "Movie Which Has Highest revenue :\n",
      ">Avatar\n",
      "\n",
      "Lowest revenue :  2\n",
      "Movie Which Has Lowest revenue : \n",
      ">Shattered Glass\n",
      ">Mallrats\n"
     ]
    }
   ],
   "source": [
    "min_val = df['revenue'].min()\n",
    "max_val = df['revenue'].max()\n",
    "print(\"Highest revenue : \",max_val)\n",
    "df_max = df[df.revenue == max_val]['original_title']\n",
    "print(\"Movie Which Has Highest revenue :\")\n",
    "for val in df_max.values:\n",
    "    print(\">\"+val)\n",
    "print(\"\\nLowest revenue : \",min_val)\n",
    "df_min = df[df.revenue == min_val]['original_title']\n",
    "print(\"Movie Which Has Lowest revenue : \")\n",
    "for val in df_min.values:\n",
    "    print(\">\"+val)"
   ]
  },
  {
   "cell_type": "markdown",
   "metadata": {},
   "source": [
    "# Question-4  What is the average runtime of movies in the year 2006? "
   ]
  },
  {
   "cell_type": "code",
   "execution_count": 32,
   "metadata": {},
   "outputs": [
    {
     "name": "stdout",
     "output_type": "stream",
     "text": [
      "Average Runtime:  108.18934911242603\n"
     ]
    }
   ],
   "source": [
    "print(\"Average Runtime: \",(df[df['release_year']==2006][['runtime']].mean().values)[0])"
   ]
  }
 ],
 "metadata": {
  "kernelspec": {
   "display_name": "Python 3",
   "language": "python",
   "name": "python3"
  },
  "language_info": {
   "codemirror_mode": {
    "name": "ipython",
    "version": 3
   },
   "file_extension": ".py",
   "mimetype": "text/x-python",
   "name": "python",
   "nbconvert_exporter": "python",
   "pygments_lexer": "ipython3",
   "version": "3.8.3"
  }
 },
 "nbformat": 4,
 "nbformat_minor": 4
}
